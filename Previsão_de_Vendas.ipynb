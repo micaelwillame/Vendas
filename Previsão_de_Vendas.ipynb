{
  "nbformat": 4,
  "nbformat_minor": 0,
  "metadata": {
    "colab": {
      "name": "Previsão de Vendas.ipynb",
      "provenance": [],
      "authorship_tag": "ABX9TyMBIbF9c+1NFPye2m/WfvmD"
    },
    "kernelspec": {
      "name": "python3",
      "display_name": "Python 3"
    }
  },
  "cells": [
    {
      "cell_type": "code",
      "metadata": {
        "id": "9JPFDpOz10AY",
        "colab_type": "code",
        "colab": {}
      },
      "source": [
        "import numpy as np\n",
        "import pandas as pd\n",
        "from pandas import Series, DataFrame\n",
        "from sklearn.model_selection import train_test_split\n",
        "import matplotlib.pyplot as plt\n",
        "import pandas as pd\n",
        "\n",
        "%matplotlib inline"
      ],
      "execution_count": 0,
      "outputs": []
    },
    {
      "cell_type": "code",
      "metadata": {
        "id": "0wf1BIGw7O8e",
        "colab_type": "code",
        "colab": {}
      },
      "source": [
        "import plotly.graph_objs as go"
      ],
      "execution_count": 0,
      "outputs": []
    },
    {
      "cell_type": "code",
      "metadata": {
        "id": "TaYMReqX8deP",
        "colab_type": "code",
        "colab": {}
      },
      "source": [
        "from sklearn.linear_model import LinearRegression\n",
        "lreg = LinearRegression()"
      ],
      "execution_count": 0,
      "outputs": []
    },
    {
      "cell_type": "code",
      "metadata": {
        "id": "UnUnT_eM6ynW",
        "colab_type": "code",
        "colab": {}
      },
      "source": [
        "from google.colab import drive"
      ],
      "execution_count": 0,
      "outputs": []
    },
    {
      "cell_type": "code",
      "metadata": {
        "id": "-uN6w0Wy7LO0",
        "colab_type": "code",
        "colab": {
          "base_uri": "https://localhost:8080/",
          "height": 131
        },
        "outputId": "11e8f668-4ea3-416c-b979-f941d556f4c9"
      },
      "source": [
        "drive.mount('/content/drive')"
      ],
      "execution_count": 4,
      "outputs": [
        {
          "output_type": "stream",
          "text": [
            "Go to this URL in a browser: https://accounts.google.com/o/oauth2/auth?client_id=947318989803-6bn6qk8qdgf4n4g3pfee6491hc0brc4i.apps.googleusercontent.com&redirect_uri=urn%3aietf%3awg%3aoauth%3a2.0%3aoob&response_type=code&scope=email%20https%3a%2f%2fwww.googleapis.com%2fauth%2fdocs.test%20https%3a%2f%2fwww.googleapis.com%2fauth%2fdrive%20https%3a%2f%2fwww.googleapis.com%2fauth%2fdrive.photos.readonly%20https%3a%2f%2fwww.googleapis.com%2fauth%2fpeopleapi.readonly\n",
            "\n",
            "Enter your authorization code:\n",
            "··········\n",
            "Mounted at /content/drive\n"
          ],
          "name": "stdout"
        }
      ]
    },
    {
      "cell_type": "code",
      "metadata": {
        "id": "z4en3Bfs7Xnn",
        "colab_type": "code",
        "colab": {}
      },
      "source": [
        "df = pd.read_csv('/content/drive/My Drive/Datasets/Data/Vendas/train.csv')"
      ],
      "execution_count": 0,
      "outputs": []
    },
    {
      "cell_type": "code",
      "metadata": {
        "id": "2wR1c5l673dj",
        "colab_type": "code",
        "colab": {
          "base_uri": "https://localhost:8080/",
          "height": 426
        },
        "outputId": "8023f46f-77d9-47a7-a84b-14a1abc94866"
      },
      "source": [
        "df.head().T"
      ],
      "execution_count": 6,
      "outputs": [
        {
          "output_type": "execute_result",
          "data": {
            "text/html": [
              "<div>\n",
              "<style scoped>\n",
              "    .dataframe tbody tr th:only-of-type {\n",
              "        vertical-align: middle;\n",
              "    }\n",
              "\n",
              "    .dataframe tbody tr th {\n",
              "        vertical-align: top;\n",
              "    }\n",
              "\n",
              "    .dataframe thead th {\n",
              "        text-align: right;\n",
              "    }\n",
              "</style>\n",
              "<table border=\"1\" class=\"dataframe\">\n",
              "  <thead>\n",
              "    <tr style=\"text-align: right;\">\n",
              "      <th></th>\n",
              "      <th>0</th>\n",
              "      <th>1</th>\n",
              "      <th>2</th>\n",
              "      <th>3</th>\n",
              "      <th>4</th>\n",
              "    </tr>\n",
              "  </thead>\n",
              "  <tbody>\n",
              "    <tr>\n",
              "      <th>Item_Identifier</th>\n",
              "      <td>FDA15</td>\n",
              "      <td>DRC01</td>\n",
              "      <td>FDN15</td>\n",
              "      <td>FDX07</td>\n",
              "      <td>NCD19</td>\n",
              "    </tr>\n",
              "    <tr>\n",
              "      <th>Item_Weight</th>\n",
              "      <td>9.3</td>\n",
              "      <td>5.92</td>\n",
              "      <td>17.5</td>\n",
              "      <td>19.2</td>\n",
              "      <td>8.93</td>\n",
              "    </tr>\n",
              "    <tr>\n",
              "      <th>Item_Fat_Content</th>\n",
              "      <td>Low Fat</td>\n",
              "      <td>Regular</td>\n",
              "      <td>Low Fat</td>\n",
              "      <td>Regular</td>\n",
              "      <td>Low Fat</td>\n",
              "    </tr>\n",
              "    <tr>\n",
              "      <th>Item_Visibility</th>\n",
              "      <td>0.0160473</td>\n",
              "      <td>0.0192782</td>\n",
              "      <td>0.0167601</td>\n",
              "      <td>0</td>\n",
              "      <td>0</td>\n",
              "    </tr>\n",
              "    <tr>\n",
              "      <th>Item_Type</th>\n",
              "      <td>Dairy</td>\n",
              "      <td>Soft Drinks</td>\n",
              "      <td>Meat</td>\n",
              "      <td>Fruits and Vegetables</td>\n",
              "      <td>Household</td>\n",
              "    </tr>\n",
              "    <tr>\n",
              "      <th>Item_MRP</th>\n",
              "      <td>249.809</td>\n",
              "      <td>48.2692</td>\n",
              "      <td>141.618</td>\n",
              "      <td>182.095</td>\n",
              "      <td>53.8614</td>\n",
              "    </tr>\n",
              "    <tr>\n",
              "      <th>Outlet_Identifier</th>\n",
              "      <td>OUT049</td>\n",
              "      <td>OUT018</td>\n",
              "      <td>OUT049</td>\n",
              "      <td>OUT010</td>\n",
              "      <td>OUT013</td>\n",
              "    </tr>\n",
              "    <tr>\n",
              "      <th>Outlet_Establishment_Year</th>\n",
              "      <td>1999</td>\n",
              "      <td>2009</td>\n",
              "      <td>1999</td>\n",
              "      <td>1998</td>\n",
              "      <td>1987</td>\n",
              "    </tr>\n",
              "    <tr>\n",
              "      <th>Outlet_Size</th>\n",
              "      <td>Medium</td>\n",
              "      <td>Medium</td>\n",
              "      <td>Medium</td>\n",
              "      <td>NaN</td>\n",
              "      <td>High</td>\n",
              "    </tr>\n",
              "    <tr>\n",
              "      <th>Outlet_Location_Type</th>\n",
              "      <td>Tier 1</td>\n",
              "      <td>Tier 3</td>\n",
              "      <td>Tier 1</td>\n",
              "      <td>Tier 3</td>\n",
              "      <td>Tier 3</td>\n",
              "    </tr>\n",
              "    <tr>\n",
              "      <th>Outlet_Type</th>\n",
              "      <td>Supermarket Type1</td>\n",
              "      <td>Supermarket Type2</td>\n",
              "      <td>Supermarket Type1</td>\n",
              "      <td>Grocery Store</td>\n",
              "      <td>Supermarket Type1</td>\n",
              "    </tr>\n",
              "    <tr>\n",
              "      <th>Item_Outlet_Sales</th>\n",
              "      <td>3735.14</td>\n",
              "      <td>443.423</td>\n",
              "      <td>2097.27</td>\n",
              "      <td>732.38</td>\n",
              "      <td>994.705</td>\n",
              "    </tr>\n",
              "  </tbody>\n",
              "</table>\n",
              "</div>"
            ],
            "text/plain": [
              "                                           0  ...                  4\n",
              "Item_Identifier                        FDA15  ...              NCD19\n",
              "Item_Weight                              9.3  ...               8.93\n",
              "Item_Fat_Content                     Low Fat  ...            Low Fat\n",
              "Item_Visibility                    0.0160473  ...                  0\n",
              "Item_Type                              Dairy  ...          Household\n",
              "Item_MRP                             249.809  ...            53.8614\n",
              "Outlet_Identifier                     OUT049  ...             OUT013\n",
              "Outlet_Establishment_Year               1999  ...               1987\n",
              "Outlet_Size                           Medium  ...               High\n",
              "Outlet_Location_Type                  Tier 1  ...             Tier 3\n",
              "Outlet_Type                Supermarket Type1  ...  Supermarket Type1\n",
              "Item_Outlet_Sales                    3735.14  ...            994.705\n",
              "\n",
              "[12 rows x 5 columns]"
            ]
          },
          "metadata": {
            "tags": []
          },
          "execution_count": 6
        }
      ]
    },
    {
      "cell_type": "code",
      "metadata": {
        "id": "c4mQgOql79nD",
        "colab_type": "code",
        "colab": {
          "base_uri": "https://localhost:8080/",
          "height": 206
        },
        "outputId": "0aecad00-4f74-4caf-aa4e-2e46125050e8"
      },
      "source": [
        "df[['Outlet_Establishment_Year','Item_MRP','Item_Outlet_Sales']][:5]"
      ],
      "execution_count": 7,
      "outputs": [
        {
          "output_type": "execute_result",
          "data": {
            "text/html": [
              "<div>\n",
              "<style scoped>\n",
              "    .dataframe tbody tr th:only-of-type {\n",
              "        vertical-align: middle;\n",
              "    }\n",
              "\n",
              "    .dataframe tbody tr th {\n",
              "        vertical-align: top;\n",
              "    }\n",
              "\n",
              "    .dataframe thead th {\n",
              "        text-align: right;\n",
              "    }\n",
              "</style>\n",
              "<table border=\"1\" class=\"dataframe\">\n",
              "  <thead>\n",
              "    <tr style=\"text-align: right;\">\n",
              "      <th></th>\n",
              "      <th>Outlet_Establishment_Year</th>\n",
              "      <th>Item_MRP</th>\n",
              "      <th>Item_Outlet_Sales</th>\n",
              "    </tr>\n",
              "  </thead>\n",
              "  <tbody>\n",
              "    <tr>\n",
              "      <th>0</th>\n",
              "      <td>1999</td>\n",
              "      <td>249.8092</td>\n",
              "      <td>3735.1380</td>\n",
              "    </tr>\n",
              "    <tr>\n",
              "      <th>1</th>\n",
              "      <td>2009</td>\n",
              "      <td>48.2692</td>\n",
              "      <td>443.4228</td>\n",
              "    </tr>\n",
              "    <tr>\n",
              "      <th>2</th>\n",
              "      <td>1999</td>\n",
              "      <td>141.6180</td>\n",
              "      <td>2097.2700</td>\n",
              "    </tr>\n",
              "    <tr>\n",
              "      <th>3</th>\n",
              "      <td>1998</td>\n",
              "      <td>182.0950</td>\n",
              "      <td>732.3800</td>\n",
              "    </tr>\n",
              "    <tr>\n",
              "      <th>4</th>\n",
              "      <td>1987</td>\n",
              "      <td>53.8614</td>\n",
              "      <td>994.7052</td>\n",
              "    </tr>\n",
              "  </tbody>\n",
              "</table>\n",
              "</div>"
            ],
            "text/plain": [
              "   Outlet_Establishment_Year  Item_MRP  Item_Outlet_Sales\n",
              "0                       1999  249.8092          3735.1380\n",
              "1                       2009   48.2692           443.4228\n",
              "2                       1999  141.6180          2097.2700\n",
              "3                       1998  182.0950           732.3800\n",
              "4                       1987   53.8614           994.7052"
            ]
          },
          "metadata": {
            "tags": []
          },
          "execution_count": 7
        }
      ]
    },
    {
      "cell_type": "code",
      "metadata": {
        "id": "vZCL6Pqm79-h",
        "colab_type": "code",
        "colab": {}
      },
      "source": [
        "X = df[['Outlet_Establishment_Year','Item_MRP']]"
      ],
      "execution_count": 0,
      "outputs": []
    },
    {
      "cell_type": "code",
      "metadata": {
        "id": "Jlg1zraV7_C_",
        "colab_type": "code",
        "colab": {}
      },
      "source": [
        "y = df['Item_Outlet_Sales']"
      ],
      "execution_count": 0,
      "outputs": []
    },
    {
      "cell_type": "code",
      "metadata": {
        "id": "RQJBjGJ48K-z",
        "colab_type": "code",
        "colab": {}
      },
      "source": [
        "# 70% dos dados para treino e 30% para teste.\n",
        "x_train, x_test, y_train, y_test = train_test_split( X, df.Item_Outlet_Sales, test_size=0.3)"
      ],
      "execution_count": 0,
      "outputs": []
    },
    {
      "cell_type": "code",
      "metadata": {
        "id": "79wMH1az8K6K",
        "colab_type": "code",
        "colab": {
          "base_uri": "https://localhost:8080/",
          "height": 36
        },
        "outputId": "8002091a-d9b7-499e-85e1-107666d57bab"
      },
      "source": [
        "lreg.fit(x_train,y_train)"
      ],
      "execution_count": 14,
      "outputs": [
        {
          "output_type": "execute_result",
          "data": {
            "text/plain": [
              "LinearRegression(copy_X=True, fit_intercept=True, n_jobs=None, normalize=False)"
            ]
          },
          "metadata": {
            "tags": []
          },
          "execution_count": 14
        }
      ]
    },
    {
      "cell_type": "code",
      "metadata": {
        "id": "fgMvG1jO8K1h",
        "colab_type": "code",
        "colab": {}
      },
      "source": [
        "pred = lreg.predict(x_test)"
      ],
      "execution_count": 0,
      "outputs": []
    },
    {
      "cell_type": "code",
      "metadata": {
        "id": "Ck6OTXM-8KvI",
        "colab_type": "code",
        "colab": {
          "base_uri": "https://localhost:8080/",
          "height": 36
        },
        "outputId": "9e461b14-3b45-44c5-d136-4b3d8bedb8dc"
      },
      "source": [
        "mse = np.mean((pred - y_test)**2)\n",
        "mse"
      ],
      "execution_count": 16,
      "outputs": [
        {
          "output_type": "execute_result",
          "data": {
            "text/plain": [
              "1928116.4378303417"
            ]
          },
          "metadata": {
            "tags": []
          },
          "execution_count": 16
        }
      ]
    },
    {
      "cell_type": "code",
      "metadata": {
        "id": "MqECfr2f8KnX",
        "colab_type": "code",
        "colab": {
          "base_uri": "https://localhost:8080/",
          "height": 112
        },
        "outputId": "9ae51229-b9d2-4a61-c3ea-def49a2b5ff0"
      },
      "source": [
        "coeff = DataFrame(x_train.columns)\n",
        "coeff['Coeficientes'] = Series(lreg.coef_)\n",
        "coeff"
      ],
      "execution_count": 17,
      "outputs": [
        {
          "output_type": "execute_result",
          "data": {
            "text/html": [
              "<div>\n",
              "<style scoped>\n",
              "    .dataframe tbody tr th:only-of-type {\n",
              "        vertical-align: middle;\n",
              "    }\n",
              "\n",
              "    .dataframe tbody tr th {\n",
              "        vertical-align: top;\n",
              "    }\n",
              "\n",
              "    .dataframe thead th {\n",
              "        text-align: right;\n",
              "    }\n",
              "</style>\n",
              "<table border=\"1\" class=\"dataframe\">\n",
              "  <thead>\n",
              "    <tr style=\"text-align: right;\">\n",
              "      <th></th>\n",
              "      <th>0</th>\n",
              "      <th>Coeficientes</th>\n",
              "    </tr>\n",
              "  </thead>\n",
              "  <tbody>\n",
              "    <tr>\n",
              "      <th>0</th>\n",
              "      <td>Outlet_Establishment_Year</td>\n",
              "      <td>-11.186978</td>\n",
              "    </tr>\n",
              "    <tr>\n",
              "      <th>1</th>\n",
              "      <td>Item_MRP</td>\n",
              "      <td>15.555956</td>\n",
              "    </tr>\n",
              "  </tbody>\n",
              "</table>\n",
              "</div>"
            ],
            "text/plain": [
              "                           0  Coeficientes\n",
              "0  Outlet_Establishment_Year    -11.186978\n",
              "1                   Item_MRP     15.555956"
            ]
          },
          "metadata": {
            "tags": []
          },
          "execution_count": 17
        }
      ]
    },
    {
      "cell_type": "code",
      "metadata": {
        "id": "QTJlHTFw8KgC",
        "colab_type": "code",
        "colab": {
          "base_uri": "https://localhost:8080/",
          "height": 36
        },
        "outputId": "8c41a588-7a6b-455b-cf00-0aff68e1d2e6"
      },
      "source": [
        "lreg.score(x_test,y_test)"
      ],
      "execution_count": 18,
      "outputs": [
        {
          "output_type": "execute_result",
          "data": {
            "text/plain": [
              "0.32717776515074964"
            ]
          },
          "metadata": {
            "tags": []
          },
          "execution_count": 18
        }
      ]
    },
    {
      "cell_type": "code",
      "metadata": {
        "id": "wamLUyy08KIj",
        "colab_type": "code",
        "colab": {
          "base_uri": "https://localhost:8080/",
          "height": 130
        },
        "outputId": "771a4ced-bd2d-44b4-bbb3-33f47d5a807d"
      },
      "source": [
        "df['Item_Weight'].head()"
      ],
      "execution_count": 19,
      "outputs": [
        {
          "output_type": "execute_result",
          "data": {
            "text/plain": [
              "0     9.30\n",
              "1     5.92\n",
              "2    17.50\n",
              "3    19.20\n",
              "4     8.93\n",
              "Name: Item_Weight, dtype: float64"
            ]
          },
          "metadata": {
            "tags": []
          },
          "execution_count": 19
        }
      ]
    },
    {
      "cell_type": "code",
      "metadata": {
        "id": "lGW5Z7Dn8r6D",
        "colab_type": "code",
        "colab": {
          "base_uri": "https://localhost:8080/",
          "height": 36
        },
        "outputId": "35f315d0-2357-4fdb-a9cd-d78432d0515c"
      },
      "source": [
        "#Verificando dados nulos \n",
        "df['Item_Weight'].isnull().sum()"
      ],
      "execution_count": 20,
      "outputs": [
        {
          "output_type": "execute_result",
          "data": {
            "text/plain": [
              "1463"
            ]
          },
          "metadata": {
            "tags": []
          },
          "execution_count": 20
        }
      ]
    },
    {
      "cell_type": "code",
      "metadata": {
        "id": "U7qjKuHI8r1U",
        "colab_type": "code",
        "colab": {}
      },
      "source": [
        "df['Item_Weight'].fillna((df['Item_Weight'].mean()), inplace=True)"
      ],
      "execution_count": 0,
      "outputs": []
    },
    {
      "cell_type": "code",
      "metadata": {
        "id": "hKuL7ndN8rwv",
        "colab_type": "code",
        "colab": {}
      },
      "source": [
        "X = df.loc[:,['Outlet_Establishment_Year','Item_MRP','Item_Weight']]"
      ],
      "execution_count": 0,
      "outputs": []
    },
    {
      "cell_type": "code",
      "metadata": {
        "id": "o08csloB8rrc",
        "colab_type": "code",
        "colab": {}
      },
      "source": [
        "y = df['Item_Outlet_Sales']"
      ],
      "execution_count": 0,
      "outputs": []
    },
    {
      "cell_type": "code",
      "metadata": {
        "id": "RfYgpfgM8rhr",
        "colab_type": "code",
        "colab": {}
      },
      "source": [
        "x_train, x_test, y_train, y_test = train_test_split( X, df.Item_Outlet_Sales, test_size=0.3)"
      ],
      "execution_count": 0,
      "outputs": []
    },
    {
      "cell_type": "code",
      "metadata": {
        "id": "zzfbu2Sl8J-_",
        "colab_type": "code",
        "colab": {
          "base_uri": "https://localhost:8080/",
          "height": 36
        },
        "outputId": "d7134110-5e25-4aa0-bcfb-698e7d1b65e6"
      },
      "source": [
        "lreg.fit(x_train,y_train)"
      ],
      "execution_count": 25,
      "outputs": [
        {
          "output_type": "execute_result",
          "data": {
            "text/plain": [
              "LinearRegression(copy_X=True, fit_intercept=True, n_jobs=None, normalize=False)"
            ]
          },
          "metadata": {
            "tags": []
          },
          "execution_count": 25
        }
      ]
    },
    {
      "cell_type": "code",
      "metadata": {
        "id": "PtIp9pID86AX",
        "colab_type": "code",
        "colab": {
          "base_uri": "https://localhost:8080/",
          "height": 36
        },
        "outputId": "a4a3a8a2-8ea3-4b0f-bffe-56dd0bbcbbb5"
      },
      "source": [
        "#Predição e MSE\n",
        "pred = lreg.predict(x_test)\n",
        "mse = np.mean((pred - y_test)**2)\n",
        "mse"
      ],
      "execution_count": 26,
      "outputs": [
        {
          "output_type": "execute_result",
          "data": {
            "text/plain": [
              "1917416.5160852473"
            ]
          },
          "metadata": {
            "tags": []
          },
          "execution_count": 26
        }
      ]
    },
    {
      "cell_type": "code",
      "metadata": {
        "id": "zH4qoWcA857Z",
        "colab_type": "code",
        "colab": {
          "base_uri": "https://localhost:8080/",
          "height": 143
        },
        "outputId": "916776d1-431a-4dc1-dd43-e4f366428dc1"
      },
      "source": [
        "#Coeficientes \n",
        "coeff = DataFrame(x_train.columns)\n",
        "coeff['Coeficientes'] = Series(lreg.coef_)\n",
        "coeff"
      ],
      "execution_count": 27,
      "outputs": [
        {
          "output_type": "execute_result",
          "data": {
            "text/html": [
              "<div>\n",
              "<style scoped>\n",
              "    .dataframe tbody tr th:only-of-type {\n",
              "        vertical-align: middle;\n",
              "    }\n",
              "\n",
              "    .dataframe tbody tr th {\n",
              "        vertical-align: top;\n",
              "    }\n",
              "\n",
              "    .dataframe thead th {\n",
              "        text-align: right;\n",
              "    }\n",
              "</style>\n",
              "<table border=\"1\" class=\"dataframe\">\n",
              "  <thead>\n",
              "    <tr style=\"text-align: right;\">\n",
              "      <th></th>\n",
              "      <th>0</th>\n",
              "      <th>Coeficientes</th>\n",
              "    </tr>\n",
              "  </thead>\n",
              "  <tbody>\n",
              "    <tr>\n",
              "      <th>0</th>\n",
              "      <td>Outlet_Establishment_Year</td>\n",
              "      <td>-11.061321</td>\n",
              "    </tr>\n",
              "    <tr>\n",
              "      <th>1</th>\n",
              "      <td>Item_MRP</td>\n",
              "      <td>15.668118</td>\n",
              "    </tr>\n",
              "    <tr>\n",
              "      <th>2</th>\n",
              "      <td>Item_Weight</td>\n",
              "      <td>-1.886669</td>\n",
              "    </tr>\n",
              "  </tbody>\n",
              "</table>\n",
              "</div>"
            ],
            "text/plain": [
              "                           0  Coeficientes\n",
              "0  Outlet_Establishment_Year    -11.061321\n",
              "1                   Item_MRP     15.668118\n",
              "2                Item_Weight     -1.886669"
            ]
          },
          "metadata": {
            "tags": []
          },
          "execution_count": 27
        }
      ]
    },
    {
      "cell_type": "code",
      "metadata": {
        "id": "2HUNneRW85vp",
        "colab_type": "code",
        "colab": {
          "base_uri": "https://localhost:8080/",
          "height": 36
        },
        "outputId": "63e784d7-8caf-4139-bef8-d11e0042b747"
      },
      "source": [
        "# r-squared\n",
        "lreg.score(x_test,y_test)"
      ],
      "execution_count": 28,
      "outputs": [
        {
          "output_type": "execute_result",
          "data": {
            "text/plain": [
              "0.3178723593203742"
            ]
          },
          "metadata": {
            "tags": []
          },
          "execution_count": 28
        }
      ]
    },
    {
      "cell_type": "code",
      "metadata": {
        "id": "m57UhYyY85sB",
        "colab_type": "code",
        "colab": {}
      },
      "source": [
        "# Substituindo os valores iguais a 0 pela média.\n",
        "df['Item_Visibility'] = df['Item_Visibility'].replace(0,np.mean(df['Item_Visibility']))"
      ],
      "execution_count": 0,
      "outputs": []
    },
    {
      "cell_type": "code",
      "metadata": {
        "id": "eIgCOrdt85hW",
        "colab_type": "code",
        "colab": {}
      },
      "source": [
        "df['Outlet_Establishment_Year'] = 2013 - df['Outlet_Establishment_Year']"
      ],
      "execution_count": 0,
      "outputs": []
    },
    {
      "cell_type": "code",
      "metadata": {
        "id": "bLhTOXf_9Icg",
        "colab_type": "code",
        "colab": {}
      },
      "source": [
        "df['Outlet_Size'].fillna('Small',inplace=True)"
      ],
      "execution_count": 0,
      "outputs": []
    },
    {
      "cell_type": "code",
      "metadata": {
        "id": "r8Eynw6x9IRb",
        "colab_type": "code",
        "colab": {
          "base_uri": "https://localhost:8080/",
          "height": 130
        },
        "outputId": "58bdd4f1-e4e5-447e-8d50-fd63c334ab2b"
      },
      "source": [
        "#Transformar em dados numéricos\n",
        "df.Item_Fat_Content.value_counts()"
      ],
      "execution_count": 32,
      "outputs": [
        {
          "output_type": "execute_result",
          "data": {
            "text/plain": [
              "Low Fat    5089\n",
              "Regular    2889\n",
              "LF          316\n",
              "reg         117\n",
              "low fat     112\n",
              "Name: Item_Fat_Content, dtype: int64"
            ]
          },
          "metadata": {
            "tags": []
          },
          "execution_count": 32
        }
      ]
    },
    {
      "cell_type": "code",
      "metadata": {
        "id": "cK3QC2rD9ILy",
        "colab_type": "code",
        "colab": {
          "base_uri": "https://localhost:8080/",
          "height": 338
        },
        "outputId": "f7128adc-f167-484f-d26d-8b9d546db33f"
      },
      "source": [
        "df.Item_Type.value_counts()"
      ],
      "execution_count": 33,
      "outputs": [
        {
          "output_type": "execute_result",
          "data": {
            "text/plain": [
              "Fruits and Vegetables    1232\n",
              "Snack Foods              1200\n",
              "Household                 910\n",
              "Frozen Foods              856\n",
              "Dairy                     682\n",
              "Canned                    649\n",
              "Baking Goods              648\n",
              "Health and Hygiene        520\n",
              "Soft Drinks               445\n",
              "Meat                      425\n",
              "Breads                    251\n",
              "Hard Drinks               214\n",
              "Others                    169\n",
              "Starchy Foods             148\n",
              "Breakfast                 110\n",
              "Seafood                    64\n",
              "Name: Item_Type, dtype: int64"
            ]
          },
          "metadata": {
            "tags": []
          },
          "execution_count": 33
        }
      ]
    },
    {
      "cell_type": "code",
      "metadata": {
        "id": "nOQWdADU9IIU",
        "colab_type": "code",
        "colab": {
          "base_uri": "https://localhost:8080/",
          "height": 92
        },
        "outputId": "c4b99889-8730-49df-e898-2fefad006931"
      },
      "source": [
        "df.Outlet_Size.value_counts()"
      ],
      "execution_count": 34,
      "outputs": [
        {
          "output_type": "execute_result",
          "data": {
            "text/plain": [
              "Small     4798\n",
              "Medium    2793\n",
              "High       932\n",
              "Name: Outlet_Size, dtype: int64"
            ]
          },
          "metadata": {
            "tags": []
          },
          "execution_count": 34
        }
      ]
    },
    {
      "cell_type": "code",
      "metadata": {
        "id": "j3g5uMHk9H__",
        "colab_type": "code",
        "colab": {}
      },
      "source": [
        "from sklearn import preprocessing\n",
        "le = preprocessing.LabelEncoder()"
      ],
      "execution_count": 0,
      "outputs": []
    },
    {
      "cell_type": "code",
      "metadata": {
        "id": "7WFLRnL-9HuL",
        "colab_type": "code",
        "colab": {}
      },
      "source": [
        "def generate_labelencoder(atts):\n",
        "  for attr in atts:\n",
        "    df[attr] = le.fit_transform(df[attr])\n",
        "  return df"
      ],
      "execution_count": 0,
      "outputs": []
    },
    {
      "cell_type": "code",
      "metadata": {
        "id": "-S8y59DY9VBv",
        "colab_type": "code",
        "colab": {}
      },
      "source": [
        "df = generate_labelencoder(['Item_Fat_Content','Item_Type','Outlet_Identifier','Outlet_Size','Outlet_Location_Type','Outlet_Type'])"
      ],
      "execution_count": 0,
      "outputs": []
    },
    {
      "cell_type": "code",
      "metadata": {
        "id": "lGnJ-y8W9U8w",
        "colab_type": "code",
        "colab": {
          "base_uri": "https://localhost:8080/",
          "height": 426
        },
        "outputId": "d1371eb4-f85d-4df8-f95e-cbce61e327f6"
      },
      "source": [
        "df.head().T"
      ],
      "execution_count": 38,
      "outputs": [
        {
          "output_type": "execute_result",
          "data": {
            "text/html": [
              "<div>\n",
              "<style scoped>\n",
              "    .dataframe tbody tr th:only-of-type {\n",
              "        vertical-align: middle;\n",
              "    }\n",
              "\n",
              "    .dataframe tbody tr th {\n",
              "        vertical-align: top;\n",
              "    }\n",
              "\n",
              "    .dataframe thead th {\n",
              "        text-align: right;\n",
              "    }\n",
              "</style>\n",
              "<table border=\"1\" class=\"dataframe\">\n",
              "  <thead>\n",
              "    <tr style=\"text-align: right;\">\n",
              "      <th></th>\n",
              "      <th>0</th>\n",
              "      <th>1</th>\n",
              "      <th>2</th>\n",
              "      <th>3</th>\n",
              "      <th>4</th>\n",
              "    </tr>\n",
              "  </thead>\n",
              "  <tbody>\n",
              "    <tr>\n",
              "      <th>Item_Identifier</th>\n",
              "      <td>FDA15</td>\n",
              "      <td>DRC01</td>\n",
              "      <td>FDN15</td>\n",
              "      <td>FDX07</td>\n",
              "      <td>NCD19</td>\n",
              "    </tr>\n",
              "    <tr>\n",
              "      <th>Item_Weight</th>\n",
              "      <td>9.3</td>\n",
              "      <td>5.92</td>\n",
              "      <td>17.5</td>\n",
              "      <td>19.2</td>\n",
              "      <td>8.93</td>\n",
              "    </tr>\n",
              "    <tr>\n",
              "      <th>Item_Fat_Content</th>\n",
              "      <td>1</td>\n",
              "      <td>2</td>\n",
              "      <td>1</td>\n",
              "      <td>2</td>\n",
              "      <td>1</td>\n",
              "    </tr>\n",
              "    <tr>\n",
              "      <th>Item_Visibility</th>\n",
              "      <td>0.0160473</td>\n",
              "      <td>0.0192782</td>\n",
              "      <td>0.0167601</td>\n",
              "      <td>0.066132</td>\n",
              "      <td>0.066132</td>\n",
              "    </tr>\n",
              "    <tr>\n",
              "      <th>Item_Type</th>\n",
              "      <td>4</td>\n",
              "      <td>14</td>\n",
              "      <td>10</td>\n",
              "      <td>6</td>\n",
              "      <td>9</td>\n",
              "    </tr>\n",
              "    <tr>\n",
              "      <th>Item_MRP</th>\n",
              "      <td>249.809</td>\n",
              "      <td>48.2692</td>\n",
              "      <td>141.618</td>\n",
              "      <td>182.095</td>\n",
              "      <td>53.8614</td>\n",
              "    </tr>\n",
              "    <tr>\n",
              "      <th>Outlet_Identifier</th>\n",
              "      <td>9</td>\n",
              "      <td>3</td>\n",
              "      <td>9</td>\n",
              "      <td>0</td>\n",
              "      <td>1</td>\n",
              "    </tr>\n",
              "    <tr>\n",
              "      <th>Outlet_Establishment_Year</th>\n",
              "      <td>14</td>\n",
              "      <td>4</td>\n",
              "      <td>14</td>\n",
              "      <td>15</td>\n",
              "      <td>26</td>\n",
              "    </tr>\n",
              "    <tr>\n",
              "      <th>Outlet_Size</th>\n",
              "      <td>1</td>\n",
              "      <td>1</td>\n",
              "      <td>1</td>\n",
              "      <td>2</td>\n",
              "      <td>0</td>\n",
              "    </tr>\n",
              "    <tr>\n",
              "      <th>Outlet_Location_Type</th>\n",
              "      <td>0</td>\n",
              "      <td>2</td>\n",
              "      <td>0</td>\n",
              "      <td>2</td>\n",
              "      <td>2</td>\n",
              "    </tr>\n",
              "    <tr>\n",
              "      <th>Outlet_Type</th>\n",
              "      <td>1</td>\n",
              "      <td>2</td>\n",
              "      <td>1</td>\n",
              "      <td>0</td>\n",
              "      <td>1</td>\n",
              "    </tr>\n",
              "    <tr>\n",
              "      <th>Item_Outlet_Sales</th>\n",
              "      <td>3735.14</td>\n",
              "      <td>443.423</td>\n",
              "      <td>2097.27</td>\n",
              "      <td>732.38</td>\n",
              "      <td>994.705</td>\n",
              "    </tr>\n",
              "  </tbody>\n",
              "</table>\n",
              "</div>"
            ],
            "text/plain": [
              "                                   0          1          2         3         4\n",
              "Item_Identifier                FDA15      DRC01      FDN15     FDX07     NCD19\n",
              "Item_Weight                      9.3       5.92       17.5      19.2      8.93\n",
              "Item_Fat_Content                   1          2          1         2         1\n",
              "Item_Visibility            0.0160473  0.0192782  0.0167601  0.066132  0.066132\n",
              "Item_Type                          4         14         10         6         9\n",
              "Item_MRP                     249.809    48.2692    141.618   182.095   53.8614\n",
              "Outlet_Identifier                  9          3          9         0         1\n",
              "Outlet_Establishment_Year         14          4         14        15        26\n",
              "Outlet_Size                        1          1          1         2         0\n",
              "Outlet_Location_Type               0          2          0         2         2\n",
              "Outlet_Type                        1          2          1         0         1\n",
              "Item_Outlet_Sales            3735.14    443.423    2097.27    732.38   994.705"
            ]
          },
          "metadata": {
            "tags": []
          },
          "execution_count": 38
        }
      ]
    },
    {
      "cell_type": "code",
      "metadata": {
        "id": "58nJbjVG9U6K",
        "colab_type": "code",
        "colab": {}
      },
      "source": [
        "# O X vai receber todas as colunas da base de dados menos essa duas.\n",
        "X = df.drop(['Item_Identifier','Item_Outlet_Sales'], axis=1)"
      ],
      "execution_count": 0,
      "outputs": []
    },
    {
      "cell_type": "code",
      "metadata": {
        "id": "divpVAef9U1f",
        "colab_type": "code",
        "colab": {}
      },
      "source": [
        "x_train, x_test, y_train, y_test = train_test_split( X, df.Item_Outlet_Sales, test_size=0.3)"
      ],
      "execution_count": 0,
      "outputs": []
    },
    {
      "cell_type": "code",
      "metadata": {
        "id": "zFD7z6LF9UxL",
        "colab_type": "code",
        "colab": {
          "base_uri": "https://localhost:8080/",
          "height": 36
        },
        "outputId": "9d9793bb-9d8b-4cb2-f89b-c05d3f4c8ea0"
      },
      "source": [
        "lreg = LinearRegression()\n",
        "lreg.fit(x_train,y_train)"
      ],
      "execution_count": 41,
      "outputs": [
        {
          "output_type": "execute_result",
          "data": {
            "text/plain": [
              "LinearRegression(copy_X=True, fit_intercept=True, n_jobs=None, normalize=False)"
            ]
          },
          "metadata": {
            "tags": []
          },
          "execution_count": 41
        }
      ]
    },
    {
      "cell_type": "code",
      "metadata": {
        "id": "rO45IVNv9Usf",
        "colab_type": "code",
        "colab": {}
      },
      "source": [
        "pred_cv = lreg.predict(x_test)"
      ],
      "execution_count": 0,
      "outputs": []
    },
    {
      "cell_type": "code",
      "metadata": {
        "id": "gVT_7gYp9UpV",
        "colab_type": "code",
        "colab": {
          "base_uri": "https://localhost:8080/",
          "height": 36
        },
        "outputId": "9fac0af0-d8ca-41d7-a548-c53c50aa7d1e"
      },
      "source": [
        "#MSE (Mean Squared Error) representa a diferença entre os valores originais e \n",
        "#previstos extraídos pelo quadrado da diferença média sobre o conjunto de dados.\n",
        "\n",
        "mse = np.mean((pred_cv - y_test)**2)\n",
        "mse"
      ],
      "execution_count": 43,
      "outputs": [
        {
          "output_type": "execute_result",
          "data": {
            "text/plain": [
              "1423807.0238811227"
            ]
          },
          "metadata": {
            "tags": []
          },
          "execution_count": 43
        }
      ]
    },
    {
      "cell_type": "code",
      "metadata": {
        "id": "iNgjXDTu9UkJ",
        "colab_type": "code",
        "colab": {
          "base_uri": "https://localhost:8080/",
          "height": 36
        },
        "outputId": "cc601085-de86-41f1-90db-e67c7d193afd"
      },
      "source": [
        "#O quadrado R (coeficiente de determinação) representa o coeficiente de quão bem \n",
        "#os valores se ajustam em comparação com os valores originais. O valor de 0 a 1 \n",
        "#interpretado como porcentagens. Quanto maior o valor, melhor o modelo.\n",
        "\n",
        "lreg.score(x_test,y_test)"
      ],
      "execution_count": 44,
      "outputs": [
        {
          "output_type": "execute_result",
          "data": {
            "text/plain": [
              "0.4900872968997061"
            ]
          },
          "metadata": {
            "tags": []
          },
          "execution_count": 44
        }
      ]
    },
    {
      "cell_type": "code",
      "metadata": {
        "id": "_cbSGbQe9UfE",
        "colab_type": "code",
        "colab": {
          "base_uri": "https://localhost:8080/",
          "height": 425
        },
        "outputId": "4610afff-24e0-4c03-d4d8-d335256dceb8"
      },
      "source": [
        "#Verificando a magnitude dos coeficientes\n",
        "\n",
        "predictors = x_train.columns\n",
        "coef = Series(lreg.coef_,predictors).sort_values()\n",
        "coef.plot(kind='bar', title='Modal Coefficients') "
      ],
      "execution_count": 45,
      "outputs": [
        {
          "output_type": "execute_result",
          "data": {
            "text/plain": [
              "<matplotlib.axes._subplots.AxesSubplot at 0x7fb89a567fd0>"
            ]
          },
          "metadata": {
            "tags": []
          },
          "execution_count": 45
        },
        {
          "output_type": "display_data",
          "data": {
            "image/png": "[encoded data removed]",
            "text/plain": [
              "<Figure size 432x288 with 1 Axes>"
            ]
          },
          "metadata": {
            "tags": []
          }
        }
      ]
    },
    {
      "cell_type": "code",
      "metadata": {
        "id": "5W4SAyCm9UWB",
        "colab_type": "code",
        "colab": {}
      },
      "source": [
        "from sklearn.linear_model import Ridge\n",
        "ridgeReg = Ridge(alpha=0.05, normalize=True)"
      ],
      "execution_count": 0,
      "outputs": []
    },
    {
      "cell_type": "code",
      "metadata": {
        "id": "0Lu-W_Vu9n1z",
        "colab_type": "code",
        "colab": {
          "base_uri": "https://localhost:8080/",
          "height": 55
        },
        "outputId": "78d7b350-15f5-4d5b-c29b-fb8a342f5719"
      },
      "source": [
        "ridgeReg.fit(x_train,y_train)"
      ],
      "execution_count": 47,
      "outputs": [
        {
          "output_type": "execute_result",
          "data": {
            "text/plain": [
              "Ridge(alpha=0.05, copy_X=True, fit_intercept=True, max_iter=None,\n",
              "      normalize=True, random_state=None, solver='auto', tol=0.001)"
            ]
          },
          "metadata": {
            "tags": []
          },
          "execution_count": 47
        }
      ]
    },
    {
      "cell_type": "code",
      "metadata": {
        "id": "Vp8iaAns9oyP",
        "colab_type": "code",
        "colab": {
          "base_uri": "https://localhost:8080/",
          "height": 36
        },
        "outputId": "9dbec76b-6205-4e70-d397-c9971ec13db6"
      },
      "source": [
        "pred = ridgeReg.predict(x_test)\n",
        "mse = np.mean((pred - y_test)**2)\n",
        "mse"
      ],
      "execution_count": 48,
      "outputs": [
        {
          "output_type": "execute_result",
          "data": {
            "text/plain": [
              "1422263.2059854723"
            ]
          },
          "metadata": {
            "tags": []
          },
          "execution_count": 48
        }
      ]
    },
    {
      "cell_type": "code",
      "metadata": {
        "id": "UGGT5Cpp9ot3",
        "colab_type": "code",
        "colab": {
          "base_uri": "https://localhost:8080/",
          "height": 36
        },
        "outputId": "0e32d1b7-e57b-4e7b-a9fb-1a5745588519"
      },
      "source": [
        "ridgeReg.score(x_test,y_test)"
      ],
      "execution_count": 49,
      "outputs": [
        {
          "output_type": "execute_result",
          "data": {
            "text/plain": [
              "0.49064018949193366"
            ]
          },
          "metadata": {
            "tags": []
          },
          "execution_count": 49
        }
      ]
    },
    {
      "cell_type": "code",
      "metadata": {
        "id": "bS75_dAv9oo2",
        "colab_type": "code",
        "colab": {}
      },
      "source": [
        "#Verificação do impacto nos coeficientes\n",
        "\n",
        "def plot_coeficientes_ridge(alpha):\n",
        "  ridgeReg = Ridge(alpha=alpha, normalize=True)\n",
        "  ridgeReg.fit(x_train,y_train)\n",
        "  predictors = x_train.columns\n",
        "  coef = Series(ridgeReg.coef_,predictors).sort_values()\n",
        "  print(coef)\n",
        "  coef.plot(kind='bar', title='Ridge Coefficients')"
      ],
      "execution_count": 0,
      "outputs": []
    },
    {
      "cell_type": "code",
      "metadata": {
        "id": "S4gky5jI9oiG",
        "colab_type": "code",
        "colab": {
          "base_uri": "https://localhost:8080/",
          "height": 614
        },
        "outputId": "b2cb073d-fb0d-41b4-d3b8-ee6288554c09"
      },
      "source": [
        "#alpha = 0.01\n",
        "plot_coeficientes_ridge(0.01)"
      ],
      "execution_count": 51,
      "outputs": [
        {
          "output_type": "stream",
          "text": [
            "Item_Visibility             -1707.964840\n",
            "Outlet_Size                  -123.469751\n",
            "Outlet_Location_Type          -85.205255\n",
            "Item_Type                      -3.426870\n",
            "Item_Weight                    -2.475669\n",
            "Outlet_Establishment_Year      -0.552807\n",
            "Item_MRP                       15.673370\n",
            "Item_Fat_Content               44.249603\n",
            "Outlet_Identifier              60.020641\n",
            "Outlet_Type                   813.906460\n",
            "dtype: float64\n"
          ],
          "name": "stdout"
        },
        {
          "output_type": "display_data",
          "data": {
            "image/png": "[encoded data removed]",
            "text/plain": [
              "<Figure size 432x288 with 1 Axes>"
            ]
          },
          "metadata": {
            "tags": []
          }
        }
      ]
    },
    {
      "cell_type": "code",
      "metadata": {
        "id": "X0L5RckR9nrN",
        "colab_type": "code",
        "colab": {
          "base_uri": "https://localhost:8080/",
          "height": 614
        },
        "outputId": "ff550346-5397-4a98-8a37-51de99d804c7"
      },
      "source": [
        "#alpha = 10\n",
        "plot_coeficientes_ridge(10)"
      ],
      "execution_count": 53,
      "outputs": [
        {
          "output_type": "stream",
          "text": [
            "Item_Visibility             -389.755270\n",
            "Outlet_Size                  -31.843852\n",
            "Item_Type                      0.279725\n",
            "Item_Weight                    0.291773\n",
            "Outlet_Establishment_Year      0.673264\n",
            "Item_MRP                       1.438006\n",
            "Item_Fat_Content               5.566322\n",
            "Outlet_Identifier              9.309966\n",
            "Outlet_Location_Type          14.844761\n",
            "Outlet_Type                   74.910778\n",
            "dtype: float64\n"
          ],
          "name": "stdout"
        },
        {
          "output_type": "display_data",
          "data": {
            "image/png": "[encoded data removed]",
            "text/plain": [
              "<Figure size 432x288 with 1 Axes>"
            ]
          },
          "metadata": {
            "tags": []
          }
        }
      ]
    },
    {
      "cell_type": "code",
      "metadata": {
        "id": "LD20EF6I9yV9",
        "colab_type": "code",
        "colab": {}
      },
      "source": [
        "from sklearn.linear_model import Lasso\n",
        "lassoReg = Lasso(alpha=0.05, normalize=True)"
      ],
      "execution_count": 0,
      "outputs": []
    },
    {
      "cell_type": "code",
      "metadata": {
        "id": "n8LOwkQJ9z82",
        "colab_type": "code",
        "colab": {
          "base_uri": "https://localhost:8080/",
          "height": 74
        },
        "outputId": "4fe6a0ce-8a71-4fb7-dbbc-927c9925b6db"
      },
      "source": [
        "lassoReg.fit(x_train,y_train)"
      ],
      "execution_count": 55,
      "outputs": [
        {
          "output_type": "execute_result",
          "data": {
            "text/plain": [
              "Lasso(alpha=0.05, copy_X=True, fit_intercept=True, max_iter=1000,\n",
              "      normalize=True, positive=False, precompute=False, random_state=None,\n",
              "      selection='cyclic', tol=0.0001, warm_start=False)"
            ]
          },
          "metadata": {
            "tags": []
          },
          "execution_count": 55
        }
      ]
    },
    {
      "cell_type": "code",
      "metadata": {
        "id": "CC8b9x4b9z3c",
        "colab_type": "code",
        "colab": {
          "base_uri": "https://localhost:8080/",
          "height": 36
        },
        "outputId": "f20065f8-c0c1-4f94-c18b-385ed21f62bb"
      },
      "source": [
        "#predição e calculando as métricas\n",
        "\n",
        "pred = lassoReg.predict(x_test)\n",
        "mse = np.mean((pred - y_test)**2)\n",
        "mse"
      ],
      "execution_count": 56,
      "outputs": [
        {
          "output_type": "execute_result",
          "data": {
            "text/plain": [
              "1423183.8052084371"
            ]
          },
          "metadata": {
            "tags": []
          },
          "execution_count": 56
        }
      ]
    },
    {
      "cell_type": "code",
      "metadata": {
        "id": "AfviR_IA9zyd",
        "colab_type": "code",
        "colab": {
          "base_uri": "https://localhost:8080/",
          "height": 36
        },
        "outputId": "380e163d-4aee-4ea7-b228-458fecd5592c"
      },
      "source": [
        "lassoReg.score(x_test,y_test)"
      ],
      "execution_count": 57,
      "outputs": [
        {
          "output_type": "execute_result",
          "data": {
            "text/plain": [
              "0.49031049225742074"
            ]
          },
          "metadata": {
            "tags": []
          },
          "execution_count": 57
        }
      ]
    },
    {
      "cell_type": "code",
      "metadata": {
        "id": "vN43c_G99ztd",
        "colab_type": "code",
        "colab": {}
      },
      "source": [
        "def plot_coeficientes_lasso(alpha):\n",
        "  lassoReg = Lasso(alpha=alpha, normalize=True)\n",
        "  lassoReg.fit(x_train,y_train)\n",
        "  predictors = x_train.columns\n",
        "  coef = Series(lassoReg.coef_,predictors).sort_values()\n",
        "  print(coef)\n",
        "  coef.plot(kind='bar', title='Lasso Coefficients')"
      ],
      "execution_count": 0,
      "outputs": []
    },
    {
      "cell_type": "code",
      "metadata": {
        "id": "CvoDEU0W9zi7",
        "colab_type": "code",
        "colab": {
          "base_uri": "https://localhost:8080/",
          "height": 614
        },
        "outputId": "37d07f22-a0d6-431a-dda8-ec33c526e9f5"
      },
      "source": [
        "##Magnitude com alpha= 0.01\n",
        "\n",
        "plot_coeficientes_lasso(0.01)"
      ],
      "execution_count": 59,
      "outputs": [
        {
          "output_type": "stream",
          "text": [
            "Item_Visibility             -1692.141607\n",
            "Outlet_Size                  -120.646649\n",
            "Outlet_Location_Type          -99.381383\n",
            "Item_Type                      -3.351307\n",
            "Item_Weight                    -2.394414\n",
            "Outlet_Establishment_Year      -0.517303\n",
            "Item_MRP                       15.819424\n",
            "Item_Fat_Content               43.243004\n",
            "Outlet_Identifier              56.808723\n",
            "Outlet_Type                   830.239772\n",
            "dtype: float64\n"
          ],
          "name": "stdout"
        },
        {
          "output_type": "display_data",
          "data": {
            "image/png": "[encoded data removed]",
            "text/plain": [
              "<Figure size 432x288 with 1 Axes>"
            ]
          },
          "metadata": {
            "tags": []
          }
        }
      ]
    },
    {
      "cell_type": "code",
      "metadata": {
        "id": "KdEvdCVc9x4R",
        "colab_type": "code",
        "colab": {
          "base_uri": "https://localhost:8080/",
          "height": 614
        },
        "outputId": "10f866bb-2fe5-40cb-a8c7-0cbe0ea520f4"
      },
      "source": [
        "##Magnitude com alpha = 0.5\n",
        "\n",
        "plot_coeficientes_lasso(0.5)"
      ],
      "execution_count": 60,
      "outputs": [
        {
          "output_type": "stream",
          "text": [
            "Item_Visibility             -1094.478588\n",
            "Outlet_Size                   -45.320635\n",
            "Item_Weight                    -0.000000\n",
            "Item_Fat_Content                0.000000\n",
            "Item_Type                      -0.000000\n",
            "Outlet_Establishment_Year       0.000000\n",
            "Outlet_Location_Type           -0.000000\n",
            "Item_MRP                       15.222336\n",
            "Outlet_Identifier              61.678331\n",
            "Outlet_Type                   763.275824\n",
            "dtype: float64\n"
          ],
          "name": "stdout"
        },
        {
          "output_type": "display_data",
          "data": {
            "image/png": "[encoded data removed]",
            "text/plain": [
              "<Figure size 432x288 with 1 Axes>"
            ]
          },
          "metadata": {
            "tags": []
          }
        }
      ]
    },
    {
      "cell_type": "code",
      "metadata": {
        "id": "4C7WkWmq-P7d",
        "colab_type": "code",
        "colab": {}
      },
      "source": [
        "from sklearn.linear_model import ElasticNet"
      ],
      "execution_count": 0,
      "outputs": []
    },
    {
      "cell_type": "code",
      "metadata": {
        "id": "xSKUu9gQ-P3V",
        "colab_type": "code",
        "colab": {
          "base_uri": "https://localhost:8080/",
          "height": 74
        },
        "outputId": "dc35dc83-0b0f-4cfb-b046-2fda5b163ed8"
      },
      "source": [
        "ENreg = ElasticNet(alpha=1, l1_ratio=0.5, normalize=False)\n",
        "ENreg.fit(x_train,y_train)"
      ],
      "execution_count": 62,
      "outputs": [
        {
          "output_type": "execute_result",
          "data": {
            "text/plain": [
              "ElasticNet(alpha=1, copy_X=True, fit_intercept=True, l1_ratio=0.5,\n",
              "           max_iter=1000, normalize=False, positive=False, precompute=False,\n",
              "           random_state=None, selection='cyclic', tol=0.0001, warm_start=False)"
            ]
          },
          "metadata": {
            "tags": []
          },
          "execution_count": 62
        }
      ]
    },
    {
      "cell_type": "code",
      "metadata": {
        "id": "FwpBs9_u-PzI",
        "colab_type": "code",
        "colab": {
          "base_uri": "https://localhost:8080/",
          "height": 36
        },
        "outputId": "71564543-f741-48c5-acba-82620389556e"
      },
      "source": [
        "pred = ENreg.predict(x_test)\n",
        "mse = np.mean((pred - y_test)**2)\n",
        "mse"
      ],
      "execution_count": 63,
      "outputs": [
        {
          "output_type": "execute_result",
          "data": {
            "text/plain": [
              "1501428.440211698"
            ]
          },
          "metadata": {
            "tags": []
          },
          "execution_count": 63
        }
      ]
    },
    {
      "cell_type": "code",
      "metadata": {
        "id": "d-4pkN2H-Pug",
        "colab_type": "code",
        "colab": {
          "base_uri": "https://localhost:8080/",
          "height": 36
        },
        "outputId": "24947188-15c5-4695-8250-1721d9214bbb"
      },
      "source": [
        "ENreg.score(x_test,y_test)"
      ],
      "execution_count": 64,
      "outputs": [
        {
          "output_type": "execute_result",
          "data": {
            "text/plain": [
              "0.46228848318708377"
            ]
          },
          "metadata": {
            "tags": []
          },
          "execution_count": 64
        }
      ]
    },
    {
      "cell_type": "code",
      "metadata": {
        "id": "yG3Z4xs9-Pqo",
        "colab_type": "code",
        "colab": {}
      },
      "source": [
        "def plot_coeficientes_elastic(alpha,l1):\n",
        "  ENreg = ElasticNet(alpha=alpha, l1_ratio=l1, normalize=False)\n",
        "  ENreg.fit(x_train,y_train)\n",
        "  predictors = x_train.columns\n",
        "  coef = Series(ENreg.coef_,predictors).sort_values()\n",
        "  print(coef)\n",
        "  coef.plot(kind='bar', title='Elastic Coefficients')"
      ],
      "execution_count": 0,
      "outputs": []
    },
    {
      "cell_type": "code",
      "metadata": {
        "id": "VzY4Yuud-Pmn",
        "colab_type": "code",
        "colab": {
          "base_uri": "https://localhost:8080/",
          "height": 614
        },
        "outputId": "517af17b-d6fb-4d8a-e583-998d2fb58fb7"
      },
      "source": [
        "plot_coeficientes_elastic(1,0.5)"
      ],
      "execution_count": 66,
      "outputs": [
        {
          "output_type": "stream",
          "text": [
            "Outlet_Size                 -114.044256\n",
            "Item_Visibility              -10.772644\n",
            "Item_Type                     -2.512669\n",
            "Item_Weight                   -2.022618\n",
            "Outlet_Establishment_Year      3.525042\n",
            "Item_MRP                      15.804813\n",
            "Item_Fat_Content              18.984390\n",
            "Outlet_Identifier            113.743458\n",
            "Outlet_Location_Type         140.094506\n",
            "Outlet_Type                  397.623224\n",
            "dtype: float64\n"
          ],
          "name": "stdout"
        },
        {
          "output_type": "display_data",
          "data": {
            "image/png": "[encoded data removed]",
            "text/plain": [
              "<Figure size 432x288 with 1 Axes>"
            ]
          },
          "metadata": {
            "tags": []
          }
        }
      ]
    },
    {
      "cell_type": "code",
      "metadata": {
        "id": "aOmKEnRd-PdY",
        "colab_type": "code",
        "colab": {
          "base_uri": "https://localhost:8080/",
          "height": 614
        },
        "outputId": "d3f0b80a-65dc-48c9-b7dd-0daddb5d6319"
      },
      "source": [
        "plot_coeficientes_elastic(1,1)"
      ],
      "execution_count": 67,
      "outputs": [
        {
          "output_type": "stream",
          "text": [
            "Item_Visibility             -1262.751298\n",
            "Outlet_Size                  -123.473318\n",
            "Outlet_Location_Type          -92.100769\n",
            "Item_Type                      -3.358020\n",
            "Item_Weight                    -2.416587\n",
            "Outlet_Establishment_Year      -0.854762\n",
            "Item_MRP                       15.833954\n",
            "Item_Fat_Content               40.814866\n",
            "Outlet_Identifier              59.288415\n",
            "Outlet_Type                   829.196745\n",
            "dtype: float64\n"
          ],
          "name": "stdout"
        },
        {
          "output_type": "display_data",
          "data": {
            "image/png": "[encoded data removed]",
            "text/plain": [
              "<Figure size 432x288 with 1 Axes>"
            ]
          },
          "metadata": {
            "tags": []
          }
        }
      ]
    },
    {
      "cell_type": "code",
      "metadata": {
        "id": "hmDDu36Y-PXU",
        "colab_type": "code",
        "colab": {
          "base_uri": "https://localhost:8080/",
          "height": 517
        },
        "outputId": "5f927b87-d8f4-49c5-e956-896fcf3a1374"
      },
      "source": [
        "predicoes = pd.DataFrame(pred[:100])\n",
        "\n",
        "y_teste2= pd.DataFrame(y_test.values[:100])\n",
        "\n",
        "plt.style.use(\"ggplot\")\n",
        "plt.figure(figsize=(12,8))\n",
        "plt.xlabel('..')\n",
        "plt.ylabel('Valor de Vendas')\n",
        "plt.title('Valores reais vs preditos')\n",
        "\n",
        "plt.plot(y_teste2.index,predicoes)\n",
        "plt.plot(y_teste2.index,y_teste2)\n",
        "\n",
        "plt.legend(['Predições','Valores Reais'])\n",
        "plt.show()"
      ],
      "execution_count": 68,
      "outputs": [
        {
          "output_type": "display_data",
          "data": {
            "image/png": "[encoded data removed]",
            "text/plain": [
              "<Figure size 864x576 with 1 Axes>"
            ]
          },
          "metadata": {
            "tags": []
          }
        }
      ]
    },
    {
      "cell_type": "code",
      "metadata": {
        "id": "FIQ7UXOg-dhn",
        "colab_type": "code",
        "colab": {}
      },
      "source": [
        ""
      ],
      "execution_count": 0,
      "outputs": []
    },
    {
      "cell_type": "code",
      "metadata": {
        "id": "ApPxFFkJ-dcf",
        "colab_type": "code",
        "colab": {}
      },
      "source": [
        ""
      ],
      "execution_count": 0,
      "outputs": []
    },
    {
      "cell_type": "code",
      "metadata": {
        "id": "ODnfTYsP-dYV",
        "colab_type": "code",
        "colab": {}
      },
      "source": [
        ""
      ],
      "execution_count": 0,
      "outputs": []
    },
    {
      "cell_type": "code",
      "metadata": {
        "id": "EirNeHhq-dRD",
        "colab_type": "code",
        "colab": {}
      },
      "source": [
        ""
      ],
      "execution_count": 0,
      "outputs": []
    },
    {
      "cell_type": "code",
      "metadata": {
        "id": "39dcPN59-dKA",
        "colab_type": "code",
        "colab": {}
      },
      "source": [
        ""
      ],
      "execution_count": 0,
      "outputs": []
    },
    {
      "cell_type": "code",
      "metadata": {
        "id": "uMWCGyT8-dFk",
        "colab_type": "code",
        "colab": {}
      },
      "source": [
        ""
      ],
      "execution_count": 0,
      "outputs": []
    },
    {
      "cell_type": "code",
      "metadata": {
        "id": "Un4Depjm-dBp",
        "colab_type": "code",
        "colab": {}
      },
      "source": [
        ""
      ],
      "execution_count": 0,
      "outputs": []
    },
    {
      "cell_type": "code",
      "metadata": {
        "id": "eGPBvA0P-c84",
        "colab_type": "code",
        "colab": {}
      },
      "source": [
        ""
      ],
      "execution_count": 0,
      "outputs": []
    },
    {
      "cell_type": "code",
      "metadata": {
        "id": "u79K2xh_-c4H",
        "colab_type": "code",
        "colab": {}
      },
      "source": [
        ""
      ],
      "execution_count": 0,
      "outputs": []
    },
    {
      "cell_type": "code",
      "metadata": {
        "id": "hYCR_d_E-cwh",
        "colab_type": "code",
        "colab": {}
      },
      "source": [
        ""
      ],
      "execution_count": 0,
      "outputs": []
    }
  ]
}